{
 "cells": [
  {
   "cell_type": "markdown",
   "id": "a651a825",
   "metadata": {},
   "source": [
    "**1. Tell me a situation where you handled a huge pressure in a workplace situation?**\n",
    "* S - One of the markets that went live had high prices being rolled out\n",
    "* T - I had to deep dive into the route, the models and look at the prices\n",
    "* A - Found that, the sensitivty parameter of load factor had to be tweaked for the model\n",
    "* R - The market started responding well to prices and prices adjusted correctly."
   ]
  },
  {
   "cell_type": "markdown",
   "id": "88d15759",
   "metadata": {},
   "source": [
    "**2. Describe a challenging situation and how you handled it?**\n",
    "\n",
    "* S - Latency on Server side. Bulk requests coming for longer dates and causing issues.\n",
    "* T - Identify root cause. \n",
    "* A - Scale up machines\n",
    "* R - Serve the traffic"
   ]
  },
  {
   "cell_type": "markdown",
   "id": "a3ffd45f",
   "metadata": {},
   "source": [
    "**2. Describe a stressful situation and how you handled it?**\n",
    "\n",
    "one of above"
   ]
  },
  {
   "cell_type": "markdown",
   "id": "80a892e9",
   "metadata": {},
   "source": [
    "**3. Describe a situation on how you dealt with conflict in workspace**\n",
    "\n",
    "* S - Idea to explore RL in pricing\n",
    "* T - Convince engineer\n",
    "* A - Lay out papers and my thought process\n",
    "* R - We were able to successfully see some light\n",
    "\n",
    "\n",
    "* S - AMI vs DevOps\n",
    "* T - Convince engineer. Explained how it would cause problems\n",
    "* A - Bought some devops help and showed the benefits\n",
    "* R - We were able to successfully see some light\n"
   ]
  },
  {
   "cell_type": "markdown",
   "id": "c5b3b92c",
   "metadata": {},
   "source": [
    "4. Tell about a mistake you made in workplace and how you resolved it."
   ]
  },
  {
   "cell_type": "markdown",
   "id": "589bc4e2",
   "metadata": {},
   "source": [
    "5. Tell me about a time when you had to work with someone difficult to get along with. How did you handle interactions with that person?"
   ]
  },
  {
   "cell_type": "markdown",
   "id": "e4005650",
   "metadata": {},
   "source": [
    "6. Tell me about an irate customer"
   ]
  },
  {
   "cell_type": "markdown",
   "id": "30691ab4",
   "metadata": {},
   "source": [
    "7. Tell me about a time when your supervisor wasn’t available when a problem arose. How did you handle the situation? With whom did you consult?\n"
   ]
  },
  {
   "cell_type": "markdown",
   "id": "28b2e22d",
   "metadata": {},
   "source": [
    "8. Tell me about a time when you were asked to do something you have never done before? What did you learn?"
   ]
  },
  {
   "cell_type": "markdown",
   "id": "f9213824",
   "metadata": {},
   "source": [
    "9. Tell me about a time when you had assigned with multiple projects at the same time. How did you organize your time? What was the result?\n"
   ]
  },
  {
   "cell_type": "markdown",
   "id": "6161f044",
   "metadata": {},
   "source": [
    "10. When have you been flexible in a work situation?"
   ]
  },
  {
   "cell_type": "markdown",
   "id": "fd639559",
   "metadata": {},
   "source": [
    "11. Have you ever had a disagreement with a supervisor? If so, what happened?\n",
    "\n",
    "To be written"
   ]
  },
  {
   "cell_type": "markdown",
   "id": "bac00d46",
   "metadata": {},
   "source": [
    "12. When have you completed a difficult task or project?\n",
    "\n",
    "Cloud migration"
   ]
  },
  {
   "cell_type": "markdown",
   "id": "d20da89d",
   "metadata": {},
   "source": [
    "13. When have you learnt a new skill or qualification?"
   ]
  },
  {
   "cell_type": "markdown",
   "id": "f9113152",
   "metadata": {},
   "source": [
    "14. How would you feel about relocating?"
   ]
  },
  {
   "cell_type": "markdown",
   "id": "fd6fc2bd",
   "metadata": {},
   "source": [
    "15. Can you describe a time when you achieved excellence at work?"
   ]
  },
  {
   "cell_type": "markdown",
   "id": "3f324e51",
   "metadata": {},
   "source": [
    "16. What's the best customer service you have ever witnessed?"
   ]
  },
  {
   "cell_type": "code",
   "execution_count": null,
   "id": "34f53bcf",
   "metadata": {},
   "outputs": [],
   "source": []
  }
 ],
 "metadata": {
  "kernelspec": {
   "display_name": "Python 3 (ipykernel)",
   "language": "python",
   "name": "python3"
  },
  "language_info": {
   "codemirror_mode": {
    "name": "ipython",
    "version": 3
   },
   "file_extension": ".py",
   "mimetype": "text/x-python",
   "name": "python",
   "nbconvert_exporter": "python",
   "pygments_lexer": "ipython3",
   "version": "3.7.11"
  }
 },
 "nbformat": 4,
 "nbformat_minor": 5
}

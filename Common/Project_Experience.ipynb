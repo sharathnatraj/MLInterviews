{
 "cells": [
  {
   "cell_type": "markdown",
   "id": "aa1f5332",
   "metadata": {},
   "source": [
    "**1.Tell me about Yourself**\n",
    "\n",
    "Bit abt my life before data scientist\n",
    "\n",
    "* Started as MF dev and worked for large retailer target\n",
    "* Forayed into web and API development thru a mainframe to java migration project in Healthcare.\n",
    "* Did large cloud migration project at Expedia migrating microservices to AWS.\n",
    "\n",
    "Past 5 years fully into data science\n",
    "\n",
    "* Got bitten by the data bug in the course of a hackthaon and started learning towards it.\n",
    "* Personally also look at problems thru data angle and maths lover.\n",
    "* Got an opportunity at an internal R&D team for data and started as founding member of DxI\n",
    "* small 4 member team to 35+ team right now\n",
    "* Heading data science team at DxI\n",
    "* Startupish team, horizontal infusing Digital power into products\n",
    "* Funded by the board for R&D\n",
    "* Worked on several projects such as dynamic pricing using clustering, classification reinformcement learning, regression problems (shipment delays and booking demand prediction)\n",
    "* Evangelize data science internally and externally. \n",
    "* Promote DRM's data science expertise through marketing channels. Video featured in official youtube, write white papers"
   ]
  },
  {
   "cell_type": "markdown",
   "id": "d75aa2eb",
   "metadata": {},
   "source": [
    "**2. Talk about iDRM**\n",
    "\n",
    "- Feature selection\n",
    "- Clustering\n",
    "- Classification\n",
    "- Model generic weights and formula"
   ]
  },
  {
   "cell_type": "markdown",
   "id": "b138fc12",
   "metadata": {},
   "source": [
    "**3. Talk about Mean shift clustering**"
   ]
  },
  {
   "cell_type": "markdown",
   "id": "c412250c",
   "metadata": {},
   "source": [
    "**4.How did you validate**"
   ]
  },
  {
   "cell_type": "markdown",
   "id": "b80fa8e6",
   "metadata": {},
   "source": [
    "**5.ROC Curve, classification details**"
   ]
  },
  {
   "cell_type": "markdown",
   "id": "c7eb0565",
   "metadata": {},
   "source": [
    "**5.Difference between bagging and boosting?**"
   ]
  },
  {
   "cell_type": "markdown",
   "id": "d83b02f8",
   "metadata": {},
   "source": [
    "# Anova\n",
    "\n",
    "$H_0$ - means $\\mu_1$, $\\mu_2$, and $\\mu_3$ are equal. \n",
    "\n",
    "Allternative hypothesis of the ANOVA $F$-test, $H_A$ - Atleast two of the means among $\\mu_1$, $\\mu_2$, and $\\mu_3$ are not equal.\n",
    "\n",
    "P-value is 0.00447 which is lesser than 0.05. This means that we accept the alternative hypothesis that atleast one pair of means (2 means) are not equal. So we can conclude that light treatment does affect phase shift."
   ]
  },
  {
   "cell_type": "code",
   "execution_count": null,
   "id": "65d3c5df",
   "metadata": {},
   "outputs": [],
   "source": []
  }
 ],
 "metadata": {
  "kernelspec": {
   "display_name": "Python 3 (ipykernel)",
   "language": "python",
   "name": "python3"
  },
  "language_info": {
   "codemirror_mode": {
    "name": "ipython",
    "version": 3
   },
   "file_extension": ".py",
   "mimetype": "text/x-python",
   "name": "python",
   "nbconvert_exporter": "python",
   "pygments_lexer": "ipython3",
   "version": "3.7.11"
  }
 },
 "nbformat": 4,
 "nbformat_minor": 5
}

{
 "cells": [
  {
   "cell_type": "markdown",
   "metadata": {},
   "source": [
    "#### Reverse an Array"
   ]
  },
  {
   "cell_type": "code",
   "execution_count": null,
   "metadata": {},
   "outputs": [],
   "source": [
    "def reverse(A):\n",
    "    N = len(A)\n",
    "    for i in range(N // 2):\n",
    "        k = N - i - 1\n",
    "        A[i], A[k] = A[k], A[i]\n",
    "    return A"
   ]
  },
  {
   "cell_type": "markdown",
   "metadata": {},
   "source": [
    "#### Cyclic Rotation of Array"
   ]
  },
  {
   "cell_type": "code",
   "execution_count": null,
   "metadata": {},
   "outputs": [],
   "source": [
    "#Brute Force\n",
    "def rotate(nums,k):\n",
    "    j = 0\n",
    "    while j < k:\n",
    "        l = len(nums)-1\n",
    "        i = 0\n",
    "        while i < l:\n",
    "            temp = nums[0]\n",
    "            nums[0:l] = nums[1:]\n",
    "            nums[l] = temp\n",
    "            i+=1\n",
    "        j+=1\n",
    "    return nums"
   ]
  },
  {
   "cell_type": "code",
   "execution_count": null,
   "metadata": {},
   "outputs": [],
   "source": [
    "rotate([1,2,3,4,5,6,7],3)"
   ]
  },
  {
   "cell_type": "code",
   "execution_count": null,
   "metadata": {},
   "outputs": [],
   "source": [
    "# Mod programming\n",
    "def rotate(nums,k):\n",
    "    n = len(nums)\n",
    "    a = [0] * n\n",
    "    for i in range(n):\n",
    "        a[(i + k) % n] = nums[i]\n",
    "    nums[:] = a\n",
    "    return nums"
   ]
  },
  {
   "cell_type": "code",
   "execution_count": null,
   "metadata": {},
   "outputs": [],
   "source": [
    "rotate([1,2,3,4,5,6,7],3)"
   ]
  },
  {
   "cell_type": "code",
   "execution_count": null,
   "metadata": {},
   "outputs": [],
   "source": [
    "#Stacks\n",
    "from collections import deque\n",
    "def rotate(nums,k):\n",
    "    j = 0\n",
    "    d = deque(nums)\n",
    "    while j < k:\n",
    "        t = d.pop()\n",
    "        d.appendleft(t)\n",
    "        j+=1\n",
    "    return list(d)"
   ]
  },
  {
   "cell_type": "code",
   "execution_count": null,
   "metadata": {
    "scrolled": true
   },
   "outputs": [],
   "source": [
    "rotate([1,2,3,4],4)"
   ]
  },
  {
   "cell_type": "markdown",
   "metadata": {},
   "source": [
    "#### Find odd occurence (unpaired) element in an array"
   ]
  },
  {
   "cell_type": "code",
   "execution_count": null,
   "metadata": {},
   "outputs": [],
   "source": [
    "#Not bad but not fast enuf - 8%\n",
    "l = [3,3,4,4,5]\n",
    "s = set(l)\n",
    "for i in s:\n",
    "    if l.count(i) == 1:\n",
    "        print(i)"
   ]
  },
  {
   "cell_type": "code",
   "execution_count": null,
   "metadata": {},
   "outputs": [],
   "source": [
    "#Faster - 56%\n",
    "from collections import Counter\n",
    "d = Counter(l)\n",
    "# for i,j in zip(d.keys(),d.values()):\n",
    "#     if j == 1:\n",
    "#         print(i)\n",
    "print(list(d.keys())[list(d.values()).index(1)])"
   ]
  },
  {
   "cell_type": "markdown",
   "metadata": {},
   "source": [
    "##### Frog Jump"
   ]
  },
  {
   "cell_type": "code",
   "execution_count": null,
   "metadata": {},
   "outputs": [],
   "source": [
    "A = [1, 3, 1, 2, 3, 5, 3,5,8,9,10,4,5]\n",
    "X = 5"
   ]
  },
  {
   "cell_type": "code",
   "execution_count": null,
   "metadata": {
    "scrolled": true
   },
   "outputs": [],
   "source": [
    "I = set([val for val in range(1,X)])\n",
    "#idx = [i for i,val in enumerate(A) if val==X]\n",
    "nf = True\n",
    "j = 0\n",
    "i = 0\n",
    "while nf:\n",
    "    j = j + i\n",
    "    print(A[j:])\n",
    "    if A[j:].count(X) == 0:\n",
    "        nf = False\n",
    "    else:\n",
    "        i = A[j:].index(X)\n",
    "        i = i + j\n",
    "        print(i)\n",
    "        s = set(A[0:i])\n",
    "        if s.intersection(I) == I:\n",
    "            print(i)\n",
    "            break\n",
    "        else:\n",
    "            j += 1\n",
    "print(-1)"
   ]
  },
  {
   "cell_type": "markdown",
   "metadata": {},
   "source": [
    "#### 463. Island Perimeter"
   ]
  },
  {
   "cell_type": "code",
   "execution_count": 75,
   "metadata": {},
   "outputs": [],
   "source": [
    "grid = [[0,1,0,0],\n",
    "     [1,1,1,0],\n",
    "     [0,1,0,0],\n",
    "     [1,1,0,0]]\n",
    "\n",
    "grid = [[1]]\n",
    "\n",
    "grid = [[1,0]]\n",
    "\n",
    "grid = [[1],[0]]\n",
    "\n",
    "grid = [[0],[1]]\n",
    "\n",
    "grid = [[1,1,1],[1,0,1]]"
   ]
  },
  {
   "cell_type": "code",
   "execution_count": 73,
   "metadata": {},
   "outputs": [],
   "source": [
    "l = 0\n",
    "for i in range(len(grid)):\n",
    "    j = 0\n",
    "    for k in grid[i]:\n",
    "        if k == 1:\n",
    "            l+= 4\n",
    "            #left\n",
    "            try:\n",
    "                if (grid[i][j-1] == 1) & (j>0):\n",
    "                    l-= 1\n",
    "            except:\n",
    "                pass\n",
    "            #below\n",
    "            try:\n",
    "                if (grid[i+1][j] == 1):\n",
    "                    l-= 1\n",
    "            except:\n",
    "                pass\n",
    "            #above\n",
    "            try:\n",
    "                if (grid[i-1][j] == 1) & (i>0):\n",
    "                    l-= 1\n",
    "            except:\n",
    "                pass\n",
    "            #right\n",
    "            try:\n",
    "                if (grid[i][j+1] == 1) & (j<len(grid[i])):\n",
    "                    l-= 1\n",
    "            except:\n",
    "                pass\n",
    "        j+= 1"
   ]
  },
  {
   "cell_type": "code",
   "execution_count": 130,
   "metadata": {},
   "outputs": [],
   "source": [
    "grid = [[0,1,0,0],\n",
    "     [1,1,1,0],\n",
    "     [0,1,0,0],\n",
    "     [1,1,0,0]]\n",
    "\n",
    "grid = [[1]]\n",
    "\n",
    "grid = [[1,0]]\n",
    "\n",
    "grid = [[1],[0]]\n",
    "\n",
    "grid = [[0],[1]]\n",
    "\n",
    "grid = [[1,1,1],[1,0,1]]"
   ]
  },
  {
   "cell_type": "code",
   "execution_count": 131,
   "metadata": {},
   "outputs": [],
   "source": [
    "l = 0\n",
    "for i in range(len(grid)):\n",
    "    j = 0\n",
    "    skp = \"N\"\n",
    "    while skp == \"N\":\n",
    "        try: \n",
    "            j += grid[i][j:].index(1)\n",
    "            l+= 4\n",
    "\n",
    "            #left\n",
    "            try:\n",
    "                if (grid[i][j-1] == 1) & (j>0):\n",
    "                    l-= 1\n",
    "            except:\n",
    "                pass\n",
    "            #below\n",
    "            try:\n",
    "                if (grid[i+1][j] == 1):\n",
    "                    l-= 1\n",
    "            except:\n",
    "                pass\n",
    "            #above\n",
    "            try:\n",
    "                if (grid[i-1][j] == 1) & (i>0):\n",
    "                    l-= 1\n",
    "            except:\n",
    "                pass\n",
    "            #right\n",
    "            try:\n",
    "                if (grid[i][j+1] == 1) & (j<len(grid[i])):\n",
    "                    l-= 1\n",
    "            except:\n",
    "                pass\n",
    "\n",
    "            j+= 1\n",
    "        except:\n",
    "            break\n",
    "            "
   ]
  },
  {
   "cell_type": "markdown",
   "metadata": {},
   "source": [
    "#### Two Sum"
   ]
  },
  {
   "cell_type": "code",
   "execution_count": 44,
   "metadata": {
    "scrolled": true
   },
   "outputs": [
    {
     "name": "stdout",
     "output_type": "stream",
     "text": [
      "0 3\n"
     ]
    }
   ],
   "source": [
    "nums = [0,7,11,0]\n",
    "target = 0\n",
    "done = False\n",
    "idx = 0\n",
    "dct = {}\n",
    "while not done:\n",
    "    fnd = target - nums[idx]\n",
    "    if dct.get(fnd) is not None:\n",
    "        done = True\n",
    "        print(dct[fnd],idx)\n",
    "    else:\n",
    "        dct[nums[idx]] = idx\n",
    "        idx+=1"
   ]
  },
  {
   "cell_type": "markdown",
   "metadata": {},
   "source": [
    "#### Best Time to Buy and Sell Stock"
   ]
  },
  {
   "cell_type": "code",
   "execution_count": 57,
   "metadata": {},
   "outputs": [
    {
     "name": "stdout",
     "output_type": "stream",
     "text": [
      "1\n",
      "1\n"
     ]
    }
   ],
   "source": [
    "prices = [7,1,5,3,6,4,1,9,0,100]\n",
    "prev_val = prices[0]\n",
    "anchor = 0\n",
    "diff_store = 0\n",
    "for curr_val in prices[1:]:\n",
    "    if curr_val > prev_val:\n",
    "        if anchor == 0:\n",
    "            diff_store = curr_val - prev_val\n",
    "            anchor = prev_val\n",
    "        else:\n",
    "            if curr_val <= anchor:\n",
    "                anchor = curr_val\n",
    "            if (curr_val - anchor) > diff_store:\n",
    "                diff_store = curr_val - anchor\n",
    "    prev_val = curr_val\n",
    "print(diff_store)"
   ]
  },
  {
   "cell_type": "code",
   "execution_count": 71,
   "metadata": {},
   "outputs": [
    {
     "name": "stdout",
     "output_type": "stream",
     "text": [
      "2\n"
     ]
    }
   ],
   "source": [
    "prices = [7,6,4,3,1]\n",
    "prices = [7,1,5,3,6,4,1,9,0,100]\n",
    "prices = [2,1,2,1,0,1,2]\n",
    "prev_val = prices[0]\n",
    "anchor = -1\n",
    "diff_store = 0\n",
    "for curr_val in prices[1:]:\n",
    "    if anchor == -1:\n",
    "        if (curr_val > prev_val):\n",
    "            diff_store = curr_val - prev_val\n",
    "            anchor = prev_val\n",
    "    elif curr_val <= anchor:\n",
    "        anchor = curr_val\n",
    "    elif (curr_val - anchor) > diff_store:\n",
    "        diff_store = curr_val - anchor\n",
    "    prev_val = curr_val\n",
    "print(diff_store)"
   ]
  },
  {
   "cell_type": "markdown",
   "metadata": {},
   "source": [
    "#### Contains Duplicate"
   ]
  },
  {
   "cell_type": "code",
   "execution_count": 9,
   "metadata": {},
   "outputs": [
    {
     "name": "stdout",
     "output_type": "stream",
     "text": [
      "True\n"
     ]
    }
   ],
   "source": [
    "nums = [1,2,3,1]\n",
    "d = {}\n",
    "for i in nums:\n",
    "    if d.get(i) == None:\n",
    "        d[i] = 0\n",
    "    else:\n",
    "        print(True)"
   ]
  },
  {
   "cell_type": "code",
   "execution_count": 4,
   "metadata": {},
   "outputs": [],
   "source": [
    "d.get(1)"
   ]
  },
  {
   "cell_type": "markdown",
   "metadata": {},
   "source": [
    "#### Product of Array Except Self"
   ]
  },
  {
   "cell_type": "code",
   "execution_count": 72,
   "metadata": {},
   "outputs": [],
   "source": [
    "nums = [1,2,3,4]"
   ]
  },
  {
   "cell_type": "code",
   "execution_count": 99,
   "metadata": {},
   "outputs": [],
   "source": [
    "#Time consuming code\n",
    "prd = []\n",
    "num = nums.copy()\n",
    "for i in range(len(nums)):\n",
    "    l = num.pop(i)\n",
    "    x = 1\n",
    "    for j in num:\n",
    "        x = x*j\n",
    "    prd.append(x)\n",
    "    num.append(l)\n",
    "        "
   ]
  },
  {
   "cell_type": "code",
   "execution_count": 101,
   "metadata": {},
   "outputs": [
    {
     "name": "stdout",
     "output_type": "stream",
     "text": [
      "[24, 12, 8, 6]\n"
     ]
    }
   ],
   "source": [
    "# O(n) solution\n",
    "pref = []\n",
    "post = []\n",
    "x = 1\n",
    "for i in nums:\n",
    "    x = x*i\n",
    "    pref.append(x)\n",
    "x = 1\n",
    "for i in nums[::-1]:\n",
    "    x = x*i\n",
    "    post.append(x)\n",
    "post = post[::-1]\n",
    "fin = []\n",
    "l = len(nums)\n",
    "for i in range(l):\n",
    "    if i == 0:\n",
    "        y = post[i+1]\n",
    "    elif i == l-1:\n",
    "        y = pref[i-1]\n",
    "    else:\n",
    "        y = pref[i-1] * post[i+1]\n",
    "    fin.append(y)\n",
    "print(fin)"
   ]
  },
  {
   "cell_type": "markdown",
   "metadata": {},
   "source": [
    "#### Maximum Subarray"
   ]
  },
  {
   "cell_type": "code",
   "execution_count": 526,
   "metadata": {},
   "outputs": [],
   "source": [
    "nums = [-2,1,-3,4,-1,2,1,-5,4]\n",
    "nums = [-2,1]\n",
    "nums = [-1]"
   ]
  },
  {
   "cell_type": "code",
   "execution_count": 539,
   "metadata": {},
   "outputs": [],
   "source": [
    "idx1 = 0\n",
    "idx2 = 0\n",
    "fin = nums[idx1]\n",
    "tmp = fin\n",
    "done = False\n",
    "l = len(nums)\n",
    "while not done:\n",
    "    if idx2 == l-1:\n",
    "        done = True\n",
    "    else: \n",
    "        if fin < 0:\n",
    "            fin = 0\n",
    "            idx1 = idx2 + 1\n",
    "            idx2 = idx1 + 1\n",
    "            fin = nums[idx1]\n",
    "        else:\n",
    "            idx2 = idx2 + 1\n",
    "        if  idx2 == l:\n",
    "            done = True\n",
    "        else:\n",
    "            fin = fin + nums[idx2]\n",
    "    if fin > tmp:\n",
    "        tmp = fin"
   ]
  },
  {
   "cell_type": "markdown",
   "metadata": {},
   "source": [
    "#### Palindrome"
   ]
  },
  {
   "cell_type": "code",
   "execution_count": 5,
   "metadata": {},
   "outputs": [
    {
     "name": "stdout",
     "output_type": "stream",
     "text": [
      "True\n"
     ]
    }
   ],
   "source": [
    "x = 121\n",
    "l = []\n",
    "for i in str(x):\n",
    "    l.append(i)\n",
    "if l == l[::-1]:\n",
    "    print(True)\n",
    "else:\n",
    "    print(False)"
   ]
  },
  {
   "cell_type": "code",
   "execution_count": null,
   "metadata": {},
   "outputs": [],
   "source": []
  }
 ],
 "metadata": {
  "kernelspec": {
   "display_name": "Python 3 (ipykernel)",
   "language": "python",
   "name": "python3"
  },
  "language_info": {
   "codemirror_mode": {
    "name": "ipython",
    "version": 3
   },
   "file_extension": ".py",
   "mimetype": "text/x-python",
   "name": "python",
   "nbconvert_exporter": "python",
   "pygments_lexer": "ipython3",
   "version": "3.7.11"
  }
 },
 "nbformat": 4,
 "nbformat_minor": 4
}

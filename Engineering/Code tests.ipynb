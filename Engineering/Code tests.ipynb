{
 "cells": [
  {
   "cell_type": "markdown",
   "metadata": {},
   "source": [
    "#### Reverse an Array"
   ]
  },
  {
   "cell_type": "code",
   "execution_count": null,
   "metadata": {},
   "outputs": [],
   "source": [
    "def reverse(A):\n",
    "    N = len(A)\n",
    "    for i in range(N // 2):\n",
    "        k = N - i - 1\n",
    "        A[i], A[k] = A[k], A[i]\n",
    "    return A"
   ]
  },
  {
   "cell_type": "markdown",
   "metadata": {},
   "source": [
    "#### Cyclic Rotation of Array"
   ]
  },
  {
   "cell_type": "code",
   "execution_count": null,
   "metadata": {},
   "outputs": [],
   "source": [
    "#Brute Force\n",
    "def rotate(nums,k):\n",
    "    j = 0\n",
    "    while j < k:\n",
    "        l = len(nums)-1\n",
    "        i = 0\n",
    "        while i < l:\n",
    "            temp = nums[0]\n",
    "            nums[0:l] = nums[1:]\n",
    "            nums[l] = temp\n",
    "            i+=1\n",
    "        j+=1\n",
    "    return nums"
   ]
  },
  {
   "cell_type": "code",
   "execution_count": null,
   "metadata": {},
   "outputs": [],
   "source": [
    "rotate([1,2,3,4,5,6,7],3)"
   ]
  },
  {
   "cell_type": "code",
   "execution_count": null,
   "metadata": {},
   "outputs": [],
   "source": [
    "# Mod programming\n",
    "def rotate(nums,k):\n",
    "    n = len(nums)\n",
    "    a = [0] * n\n",
    "    for i in range(n):\n",
    "        a[(i + k) % n] = nums[i]\n",
    "    nums[:] = a\n",
    "    return nums"
   ]
  },
  {
   "cell_type": "code",
   "execution_count": null,
   "metadata": {},
   "outputs": [],
   "source": [
    "rotate([1,2,3,4,5,6,7],3)"
   ]
  },
  {
   "cell_type": "code",
   "execution_count": null,
   "metadata": {},
   "outputs": [],
   "source": [
    "#Stacks\n",
    "from collections import deque\n",
    "def rotate(nums,k):\n",
    "    j = 0\n",
    "    d = deque(nums)\n",
    "    while j < k:\n",
    "        t = d.pop()\n",
    "        d.appendleft(t)\n",
    "        j+=1\n",
    "    return list(d)"
   ]
  },
  {
   "cell_type": "code",
   "execution_count": null,
   "metadata": {
    "scrolled": true
   },
   "outputs": [],
   "source": [
    "rotate([1,2,3,4],4)"
   ]
  },
  {
   "cell_type": "markdown",
   "metadata": {},
   "source": [
    "#### Find odd occurence (unpaired) element in an array"
   ]
  },
  {
   "cell_type": "code",
   "execution_count": null,
   "metadata": {},
   "outputs": [],
   "source": [
    "#Not bad but not fast enuf - 8%\n",
    "l = [3,3,4,4,5]\n",
    "s = set(l)\n",
    "for i in s:\n",
    "    if l.count(i) == 1:\n",
    "        print(i)"
   ]
  },
  {
   "cell_type": "code",
   "execution_count": null,
   "metadata": {},
   "outputs": [],
   "source": [
    "#Faster - 56%\n",
    "from collections import Counter\n",
    "d = Counter(l)\n",
    "# for i,j in zip(d.keys(),d.values()):\n",
    "#     if j == 1:\n",
    "#         print(i)\n",
    "print(list(d.keys())[list(d.values()).index(1)])"
   ]
  },
  {
   "cell_type": "markdown",
   "metadata": {},
   "source": [
    "##### Frog Jump"
   ]
  },
  {
   "cell_type": "code",
   "execution_count": null,
   "metadata": {},
   "outputs": [],
   "source": [
    "A = [1, 3, 1, 2, 3, 5, 3,5,8,9,10,4,5]\n",
    "X = 5"
   ]
  },
  {
   "cell_type": "code",
   "execution_count": null,
   "metadata": {
    "scrolled": true
   },
   "outputs": [],
   "source": [
    "I = set([val for val in range(1,X)])\n",
    "#idx = [i for i,val in enumerate(A) if val==X]\n",
    "nf = True\n",
    "j = 0\n",
    "i = 0\n",
    "while nf:\n",
    "    j = j + i\n",
    "    print(A[j:])\n",
    "    if A[j:].count(X) == 0:\n",
    "        nf = False\n",
    "    else:\n",
    "        i = A[j:].index(X)\n",
    "        i = i + j\n",
    "        print(i)\n",
    "        s = set(A[0:i])\n",
    "        if s.intersection(I) == I:\n",
    "            print(i)\n",
    "            break\n",
    "        else:\n",
    "            j += 1\n",
    "print(-1)"
   ]
  },
  {
   "cell_type": "markdown",
   "metadata": {},
   "source": [
    "#### 463. Island Perimeter"
   ]
  },
  {
   "cell_type": "code",
   "execution_count": 75,
   "metadata": {},
   "outputs": [],
   "source": [
    "grid = [[0,1,0,0],\n",
    "     [1,1,1,0],\n",
    "     [0,1,0,0],\n",
    "     [1,1,0,0]]\n",
    "\n",
    "grid = [[1]]\n",
    "\n",
    "grid = [[1,0]]\n",
    "\n",
    "grid = [[1],[0]]\n",
    "\n",
    "grid = [[0],[1]]\n",
    "\n",
    "grid = [[1,1,1],[1,0,1]]"
   ]
  },
  {
   "cell_type": "code",
   "execution_count": 73,
   "metadata": {},
   "outputs": [],
   "source": [
    "l = 0\n",
    "for i in range(len(grid)):\n",
    "    j = 0\n",
    "    for k in grid[i]:\n",
    "        if k == 1:\n",
    "            l+= 4\n",
    "            #left\n",
    "            try:\n",
    "                if (grid[i][j-1] == 1) & (j>0):\n",
    "                    l-= 1\n",
    "            except:\n",
    "                pass\n",
    "            #below\n",
    "            try:\n",
    "                if (grid[i+1][j] == 1):\n",
    "                    l-= 1\n",
    "            except:\n",
    "                pass\n",
    "            #above\n",
    "            try:\n",
    "                if (grid[i-1][j] == 1) & (i>0):\n",
    "                    l-= 1\n",
    "            except:\n",
    "                pass\n",
    "            #right\n",
    "            try:\n",
    "                if (grid[i][j+1] == 1) & (j<len(grid[i])):\n",
    "                    l-= 1\n",
    "            except:\n",
    "                pass\n",
    "        j+= 1"
   ]
  },
  {
   "cell_type": "code",
   "execution_count": 130,
   "metadata": {},
   "outputs": [],
   "source": [
    "grid = [[0,1,0,0],\n",
    "     [1,1,1,0],\n",
    "     [0,1,0,0],\n",
    "     [1,1,0,0]]\n",
    "\n",
    "grid = [[1]]\n",
    "\n",
    "grid = [[1,0]]\n",
    "\n",
    "grid = [[1],[0]]\n",
    "\n",
    "grid = [[0],[1]]\n",
    "\n",
    "grid = [[1,1,1],[1,0,1]]"
   ]
  },
  {
   "cell_type": "code",
   "execution_count": 131,
   "metadata": {},
   "outputs": [],
   "source": [
    "l = 0\n",
    "for i in range(len(grid)):\n",
    "    j = 0\n",
    "    skp = \"N\"\n",
    "    while skp == \"N\":\n",
    "        try: \n",
    "            j += grid[i][j:].index(1)\n",
    "            l+= 4\n",
    "\n",
    "            #left\n",
    "            try:\n",
    "                if (grid[i][j-1] == 1) & (j>0):\n",
    "                    l-= 1\n",
    "            except:\n",
    "                pass\n",
    "            #below\n",
    "            try:\n",
    "                if (grid[i+1][j] == 1):\n",
    "                    l-= 1\n",
    "            except:\n",
    "                pass\n",
    "            #above\n",
    "            try:\n",
    "                if (grid[i-1][j] == 1) & (i>0):\n",
    "                    l-= 1\n",
    "            except:\n",
    "                pass\n",
    "            #right\n",
    "            try:\n",
    "                if (grid[i][j+1] == 1) & (j<len(grid[i])):\n",
    "                    l-= 1\n",
    "            except:\n",
    "                pass\n",
    "\n",
    "            j+= 1\n",
    "        except:\n",
    "            break\n",
    "            "
   ]
  },
  {
   "cell_type": "code",
   "execution_count": 132,
   "metadata": {},
   "outputs": [
    {
     "data": {
      "text/plain": [
       "12"
      ]
     },
     "execution_count": 132,
     "metadata": {},
     "output_type": "execute_result"
    }
   ],
   "source": [
    "l"
   ]
  },
  {
   "cell_type": "code",
   "execution_count": null,
   "metadata": {},
   "outputs": [],
   "source": []
  }
 ],
 "metadata": {
  "kernelspec": {
   "display_name": "Python 3 (ipykernel)",
   "language": "python",
   "name": "python3"
  },
  "language_info": {
   "codemirror_mode": {
    "name": "ipython",
    "version": 3
   },
   "file_extension": ".py",
   "mimetype": "text/x-python",
   "name": "python",
   "nbconvert_exporter": "python",
   "pygments_lexer": "ipython3",
   "version": "3.7.11"
  }
 },
 "nbformat": 4,
 "nbformat_minor": 4
}

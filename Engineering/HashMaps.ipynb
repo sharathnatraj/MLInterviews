{
 "cells": [
  {
   "cell_type": "markdown",
   "metadata": {},
   "source": [
    "#### 463. Island Perimeter"
   ]
  },
  {
   "cell_type": "code",
   "execution_count": 75,
   "metadata": {},
   "outputs": [],
   "source": [
    "grid = [[0,1,0,0],\n",
    "     [1,1,1,0],\n",
    "     [0,1,0,0],\n",
    "     [1,1,0,0]]\n",
    "\n",
    "grid = [[1]]\n",
    "\n",
    "grid = [[1,0]]\n",
    "\n",
    "grid = [[1],[0]]\n",
    "\n",
    "grid = [[0],[1]]\n",
    "\n",
    "grid = [[1,1,1],[1,0,1]]"
   ]
  },
  {
   "cell_type": "code",
   "execution_count": 73,
   "metadata": {},
   "outputs": [],
   "source": [
    "l = 0\n",
    "for i in range(len(grid)):\n",
    "    j = 0\n",
    "    for k in grid[i]:\n",
    "        if k == 1:\n",
    "            l+= 4\n",
    "            #left\n",
    "            try:\n",
    "                if (grid[i][j-1] == 1) & (j>0):\n",
    "                    l-= 1\n",
    "            except:\n",
    "                pass\n",
    "            #below\n",
    "            try:\n",
    "                if (grid[i+1][j] == 1):\n",
    "                    l-= 1\n",
    "            except:\n",
    "                pass\n",
    "            #above\n",
    "            try:\n",
    "                if (grid[i-1][j] == 1) & (i>0):\n",
    "                    l-= 1\n",
    "            except:\n",
    "                pass\n",
    "            #right\n",
    "            try:\n",
    "                if (grid[i][j+1] == 1) & (j<len(grid[i])):\n",
    "                    l-= 1\n",
    "            except:\n",
    "                pass\n",
    "        j+= 1"
   ]
  },
  {
   "cell_type": "markdown",
   "metadata": {},
   "source": [
    "#### 535. Encode and Decode TinyURL"
   ]
  },
  {
   "cell_type": "code",
   "execution_count": 122,
   "metadata": {},
   "outputs": [],
   "source": [
    "import random\n",
    "import string"
   ]
  },
  {
   "cell_type": "code",
   "execution_count": 127,
   "metadata": {},
   "outputs": [],
   "source": [
    "class Codec:\n",
    "\n",
    "    def encode(self, longUrl: str) -> str:\n",
    "        url = \"http://tinyurl.com\" + \"/\"+ \"\".join(random.choices(string.ascii_uppercase + string.digits, k=10))\n",
    "        self.d[longUrl] = url\n",
    "        return url\n",
    "        \n",
    "\n",
    "    def decode(self, shortUrl: str) -> str:\n",
    "        \"\"\"Decodes a shortened URL to its original URL.\n",
    "        \"\"\"\n",
    "        for j,k in zip(self.d.keys(),self.d.values()):\n",
    "            if k == shortUrl:\n",
    "                return j\n",
    "\n",
    "    d = {}"
   ]
  },
  {
   "cell_type": "code",
   "execution_count": 153,
   "metadata": {},
   "outputs": [],
   "source": [
    "codec = Codec()\n",
    "tiny = codec.encode(\"http://brake.example.com/\")\n",
    "ans = codec.decode(tiny);"
   ]
  },
  {
   "cell_type": "code",
   "execution_count": 154,
   "metadata": {},
   "outputs": [
    {
     "data": {
      "text/plain": [
       "'http://brake.example.com/'"
      ]
     },
     "execution_count": 154,
     "metadata": {},
     "output_type": "execute_result"
    }
   ],
   "source": [
    "list(ans)[0]"
   ]
  },
  {
   "cell_type": "code",
   "execution_count": 155,
   "metadata": {},
   "outputs": [
    {
     "data": {
      "text/plain": [
       "'http://tinyurl.com/8QH8AWHXUM'"
      ]
     },
     "execution_count": 155,
     "metadata": {},
     "output_type": "execute_result"
    }
   ],
   "source": [
    "tiny"
   ]
  },
  {
   "cell_type": "markdown",
   "metadata": {},
   "source": [
    "#### 575. Distribute Candies"
   ]
  },
  {
   "cell_type": "code",
   "execution_count": 161,
   "metadata": {},
   "outputs": [
    {
     "name": "stdout",
     "output_type": "stream",
     "text": [
      "3\n"
     ]
    }
   ],
   "source": [
    "candyType = [1,1,2,2,3,3]\n",
    "l = int(len(candyType)/2)\n",
    "s = int(len(set(candyType)))\n",
    "print(min(s, l))"
   ]
  },
  {
   "cell_type": "markdown",
   "metadata": {},
   "source": [
    "#### 739 Daily Temperatures"
   ]
  },
  {
   "cell_type": "code",
   "execution_count": null,
   "metadata": {},
   "outputs": [],
   "source": []
  }
 ],
 "metadata": {
  "kernelspec": {
   "display_name": "Python 3",
   "language": "python",
   "name": "python3"
  },
  "language_info": {
   "codemirror_mode": {
    "name": "ipython",
    "version": 3
   },
   "file_extension": ".py",
   "mimetype": "text/x-python",
   "name": "python",
   "nbconvert_exporter": "python",
   "pygments_lexer": "ipython3",
   "version": "3.8.8"
  }
 },
 "nbformat": 4,
 "nbformat_minor": 4
}

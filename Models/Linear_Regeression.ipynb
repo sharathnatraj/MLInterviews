{
 "cells": [
  {
   "cell_type": "markdown",
   "id": "31536fb4",
   "metadata": {},
   "source": [
    "# All about  **Linear Regeression**"
   ]
  },
  {
   "cell_type": "markdown",
   "id": "4d3ed754",
   "metadata": {},
   "source": [
    "### Formula\n",
    "$\n",
    "y_{i}=\\beta_{0}+\\beta_{1} x_{i}+\\epsilon_{i} \\text { where } \\epsilon_{i} \\sim \\mathcal{N}\\left(0, \\sigma^{2}\\right)\n",
    "$"
   ]
  },
  {
   "attachments": {},
   "cell_type": "markdown",
   "id": "61763415",
   "metadata": {},
   "source": [
    "### Goal\n",
    "To find the line that best describes the relationship. i.e. to the find the best $\\beta_{0}$ & $\\beta_{1}$\n"
   ]
  },
  {
   "attachments": {},
   "cell_type": "markdown",
   "id": "6730070b",
   "metadata": {},
   "source": [
    "### Model Estimation\n",
    "\n",
    "The goal is to estimate $\\left(\\beta_{0}, \\beta_{1}\\right)$, that minimizes sum of squared errors.\n",
    "\n",
    "$\\min _{\\beta_{0}, \\beta_{1}} \\sum_{i=1}^{n}\\left(y_{i}-\\left(\\beta_{0}+\\beta_{1} x_{i}\\right)\\right)^{2}$\n",
    "\n"
   ]
  },
  {
   "cell_type": "markdown",
   "id": "ea7a6954",
   "metadata": {},
   "source": [
    "### Solution using Least squares method\n",
    "\n",
    "To solve, take the first order derivatives of the function to be minimized and equate to 0:\n",
    "\n",
    "$\\begin{aligned}\n",
    "&\\frac{\\partial}{\\partial \\beta_{0}} \\sum_{i=1}^{n}\\left(y_{i}-\\left(\\beta_{0}+\\beta_{1} x_{i}\\right)\\right)^{2}=0 \\\\\n",
    "&\\frac{\\partial}{\\partial \\beta_{1}} \\sum_{i=1}^{n}\\left(y_{i}-\\left(\\beta_{0}+\\beta_{1} x_{i}\\right)\\right)^{2}=0\n",
    "\\end{aligned}$\n",
    "\n",
    "\n",
    "\n",
    "\n",
    "The result is a system of linear equation in $\\beta_{0}$ and $\\beta_{1}$ solved using linear algebra\n",
    "\n",
    "$\\begin{aligned}\\beta_{1}=\\frac{\\sum_{i=1}^{n}\\left(x_{i}-\\bar{x}\\right)\\left(y_{i}-\\bar{y}\\right)}{\\sum_{i=1}^{n}\\left(x_{i}-\\bar{x}\\right)^{2}}\\end{aligned}$\n",
    "\n",
    "$\\beta_{0}=\\bar{y}- \\beta_{1} \\bar{x}$"
   ]
  },
  {
   "cell_type": "markdown",
   "id": "8ecd1225",
   "metadata": {},
   "source": [
    "### Solution using Gradient Descent Method"
   ]
  },
  {
   "cell_type": "markdown",
   "id": "ce56edd8",
   "metadata": {},
   "source": [
    "Derivative w.r.t $\\beta_{1}$\n",
    "$D_{\\beta_{1}}=\\frac{-2}{n} \\sum_{i=0}^{n} x_{i}\\left(y_{i}-\\bar{y}_{i}\\right)$\n",
    "\n",
    "Derivative with respect to $c$\n",
    "$D_{\\beta_{0}}=\\frac{-2}{n} \\sum_{i=0}^{n}\\left(y_{i}-\\bar{y}_{i}\\right)$"
   ]
  },
  {
   "cell_type": "code",
   "execution_count": null,
   "id": "059959c9",
   "metadata": {},
   "outputs": [],
   "source": []
  },
  {
   "cell_type": "code",
   "execution_count": null,
   "id": "9bb01bba",
   "metadata": {},
   "outputs": [],
   "source": []
  },
  {
   "cell_type": "code",
   "execution_count": null,
   "id": "0e325fad",
   "metadata": {},
   "outputs": [],
   "source": []
  }
 ],
 "metadata": {
  "kernelspec": {
   "display_name": "mypython3",
   "language": "python",
   "name": "mypython3"
  },
  "language_info": {
   "codemirror_mode": {
    "name": "ipython",
    "version": 3
   },
   "file_extension": ".py",
   "mimetype": "text/x-python",
   "name": "python",
   "nbconvert_exporter": "python",
   "pygments_lexer": "ipython3",
   "version": "3.7.11"
  }
 },
 "nbformat": 4,
 "nbformat_minor": 5
}
